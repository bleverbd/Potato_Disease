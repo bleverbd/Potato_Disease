{
 "cells": [
  {
   "cell_type": "code",
   "execution_count": 8,
   "id": "d38ae24f-c7aa-4bfa-a553-9b5e06de3d46",
   "metadata": {},
   "outputs": [],
   "source": [
    "from keras.preprocessing.image import ImageDataGenerator\n",
    "from skimage import io\n",
    "import numpy as np\n",
    "from PIL import Image\n",
    "import os\n"
   ]
  },
  {
   "cell_type": "code",
   "execution_count": 9,
   "id": "5b61475c-70ff-4c7b-87d5-4c4d27b13563",
   "metadata": {},
   "outputs": [],
   "source": [
    "datagen = ImageDataGenerator(\n",
    "        rotation_range=45, \n",
    "        width_shift_range=0.2,   \n",
    "        height_shift_range=0.2,\n",
    "        shear_range=0.2,\n",
    "        zoom_range=0.2,\n",
    "        horizontal_flip=True,\n",
    "        fill_mode='reflect')"
   ]
  },
  {
   "cell_type": "code",
   "execution_count": 10,
   "id": "713fb167-bd28-4a51-8bc5-24ad0e42c867",
   "metadata": {},
   "outputs": [],
   "source": [
    "dataset=[]\n",
    "image_directory='F:\\Python\\Jupyter Notebook\\Img/'\n",
    "SIZE=128\n"
   ]
  },
  {
   "cell_type": "code",
   "execution_count": 14,
   "id": "5e670a97-5120-4096-9ed3-512a996c67ca",
   "metadata": {},
   "outputs": [],
   "source": [
    "my_images=os.listdir(image_directory)\n",
    "for i,image_name in enumerate(my_images):\n",
    "    if(image_name.split('.')[1]=='jpg'):\n",
    "        image=io.imread(image_directory +image_name)\n",
    "        \n",
    "        image=Image.fromarray(image,'RGB')\n",
    "        image=image.resize((SIZE,SIZE))\n",
    "        dataset.append(np.array(image))\n",
    "x=np.array(dataset)"
   ]
  },
  {
   "cell_type": "code",
   "execution_count": 20,
   "id": "33e60e86-7893-4476-ac08-855ce7988897",
   "metadata": {},
   "outputs": [],
   "source": [
    "j = 0\n",
    "for batch in datagen.flow(x, batch_size=16,  \n",
    "                          save_to_dir='F:\\Python\\Jupyter Notebook/preview', \n",
    "                          save_prefix='preview', \n",
    "                          save_format='jpg',\n",
    "                          seed=20):\n",
    "    j += 1\n",
    "    if j > 10:\n",
    "        break  # otherwise the generator would loop indefinitely \n"
   ]
  },
  {
   "cell_type": "code",
   "execution_count": null,
   "id": "5d1f7bd8-3c0e-4a48-ab0f-55fa027f1ff3",
   "metadata": {},
   "outputs": [],
   "source": []
  }
 ],
 "metadata": {
  "kernelspec": {
   "display_name": "Python 3 (ipykernel)",
   "language": "python",
   "name": "python3"
  },
  "language_info": {
   "codemirror_mode": {
    "name": "ipython",
    "version": 3
   },
   "file_extension": ".py",
   "mimetype": "text/x-python",
   "name": "python",
   "nbconvert_exporter": "python",
   "pygments_lexer": "ipython3",
   "version": "3.11.3"
  }
 },
 "nbformat": 4,
 "nbformat_minor": 5
}
